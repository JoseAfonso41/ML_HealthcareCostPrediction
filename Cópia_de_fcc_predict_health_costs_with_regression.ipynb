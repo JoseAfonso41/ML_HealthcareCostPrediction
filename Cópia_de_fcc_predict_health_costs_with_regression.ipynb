{
  "cells": [
    {
      "cell_type": "markdown",
      "metadata": {
        "id": "view-in-github",
        "colab_type": "text"
      },
      "source": [
        "<a href=\"https://colab.research.google.com/github/JoseAfonso41/ML_HealthcareCostPrediction/blob/main/C%C3%B3pia_de_fcc_predict_health_costs_with_regression.ipynb\" target=\"_parent\"><img src=\"https://colab.research.google.com/assets/colab-badge.svg\" alt=\"Open In Colab\"/></a>"
      ]
    },
    {
      "cell_type": "code",
      "execution_count": null,
      "metadata": {
        "id": "1rRo8oNqZ-Rj"
      },
      "outputs": [],
      "source": [
        "# Import libraries. You may or may not use all of these.\n",
        "!pip install -q git+https://github.com/tensorflow/docs\n",
        "import matplotlib.pyplot as plt\n",
        "import numpy as np\n",
        "import pandas as pd\n",
        "\n",
        "try:\n",
        "  # %tensorflow_version only exists in Colab.\n",
        "  %tensorflow_version 2.x\n",
        "except Exception:\n",
        "  pass\n",
        "import tensorflow as tf\n",
        "\n",
        "from tensorflow import keras\n",
        "from tensorflow.keras import layers\n",
        "\n",
        "import tensorflow_docs as tfdocs\n",
        "import tensorflow_docs.plots\n",
        "import tensorflow_docs.modeling"
      ]
    },
    {
      "cell_type": "code",
      "execution_count": null,
      "metadata": {
        "id": "CiX2FI4gZtTt"
      },
      "outputs": [],
      "source": [
        "# Import data\n",
        "!wget https://cdn.freecodecamp.org/project-data/health-costs/insurance.csv\n",
        "data = pd.read_csv('insurance.csv')\n",
        "data.tail()"
      ]
    },
    {
      "cell_type": "code",
      "execution_count": null,
      "metadata": {
        "id": "LcopvQh3X-kX"
      },
      "outputs": [],
      "source": [
        "categories = [\"sex\", \"smoker\", \"region\"]\n",
        "data = pd.get_dummies(data, columns = categories, drop_first=True)\n",
        "data.head()"
      ]
    },
    {
      "cell_type": "code",
      "source": [
        "#Split train-test data as 80-20\n",
        "training_data = data.sample(frac=0.8,random_state=0)\n",
        "testing_data = data.drop(training_data.index)"
      ],
      "metadata": {
        "id": "-UttE3QUE6rc"
      },
      "execution_count": null,
      "outputs": []
    },
    {
      "cell_type": "code",
      "source": [
        "#Pop the y label for train and test sets\n",
        "training_labels = training_data.pop('expenses')\n",
        "testing_labels = testing_data.pop('expenses')"
      ],
      "metadata": {
        "id": "IP3Iv-j4FFTD"
      },
      "execution_count": null,
      "outputs": []
    },
    {
      "cell_type": "code",
      "source": [
        "def build_model():\n",
        "  model = keras.Sequential([\n",
        "    layers.Dense(64, activation='relu', input_shape=[len(training_data.keys())]),\n",
        "    layers.Dense(64, activation='relu'),\n",
        "    layers.Dense(1)\n",
        "  ])\n",
        "\n",
        "  optimizer = tf.keras.optimizers.RMSprop(learning_rate=0.01)\n",
        "\n",
        "  model.compile(loss='mse',\n",
        "                optimizer=optimizer,\n",
        "                metrics=['mae', 'mse'])\n",
        "  return model"
      ],
      "metadata": {
        "id": "Br5FdSRnFJmr"
      },
      "execution_count": null,
      "outputs": []
    },
    {
      "cell_type": "code",
      "source": [
        "model = build_model()\n",
        "model.summary()"
      ],
      "metadata": {
        "id": "R3wZmvrKFM-i"
      },
      "execution_count": null,
      "outputs": []
    },
    {
      "cell_type": "code",
      "source": [
        "sample_batch = training_data[:10]\n",
        "sample_prediction = model.predict(sample_batch)\n",
        "sample_prediction"
      ],
      "metadata": {
        "id": "xjhBcMl_FRoT"
      },
      "execution_count": null,
      "outputs": []
    },
    {
      "cell_type": "code",
      "source": [
        "NUM_EPOCHS = 1000\n",
        "\n",
        "history = model.fit(\n",
        "  training_data, training_labels,\n",
        "  epochs=NUM_EPOCHS, validation_split = 0.2, verbose=0,\n",
        "  callbacks=[tfdocs.modeling.EpochDots()])"
      ],
      "metadata": {
        "id": "kcwcU_UHFUbD"
      },
      "execution_count": null,
      "outputs": []
    },
    {
      "cell_type": "code",
      "source": [
        "mae = history.history[\"mae\"]\n",
        "loss = history.history[\"loss\"]\n",
        "epochs = history.epoch\n",
        "\n",
        "plt.figure()\n",
        "plt.scatter(epochs, mae, label='Mean Absolute Error')\n",
        "plt.xlabel('Epochs')\n",
        "plt.ylabel('Mean Absolute Error (MAE)')\n",
        "plt.xlim([0, NUM_EPOCHS])\n",
        "plt.ylim([0, 5000])\n",
        "plt.legend()\n",
        "plt.show()"
      ],
      "metadata": {
        "id": "4myGatWmFVRD"
      },
      "execution_count": null,
      "outputs": []
    },
    {
      "cell_type": "code",
      "execution_count": null,
      "metadata": {
        "id": "Xe7RXH3N3CWU"
      },
      "outputs": [],
      "source": [
        "# RUN THIS CELL TO TEST YOUR MODEL. DO NOT MODIFY CONTENTS.\n",
        "# Evaluate the model on the test data\n",
        "test_loss, test_mae, test_mse = model.evaluate(testing_data, testing_labels, verbose=2)\n",
        "\n",
        "print(\"Testing set Mean Abs Error: {:5.2f} expenses\".format(test_mae))\n",
        "\n",
        "if test_mae < 3500:\n",
        "  print(\"You passed the challenge. Great job!\")\n",
        "else:\n",
        "  print(\"The Mean Abs Error must be less than 3500. Keep trying.\")\n",
        "\n",
        "# Plot predictions.\n",
        "test_predictions = model.predict(testing_data).flatten()\n",
        "\n",
        "plt.figure()\n",
        "plt.scatter(testing_labels, test_predictions)\n",
        "plt.xlabel('Actual Expenses')\n",
        "plt.ylabel('Predicted Expenses')\n",
        "plt.plot([0, 50000], [0, 50000], color=\"red\")  # Plot a line for perfect predictions\n",
        "plt.xlim([0, 50000])\n",
        "plt.ylim([0, 50000])\n",
        "plt.show()\n"
      ]
    }
  ],
  "metadata": {
    "colab": {
      "private_outputs": true,
      "provenance": [],
      "toc_visible": true,
      "include_colab_link": true
    },
    "kernelspec": {
      "display_name": "Python 3",
      "name": "python3"
    }
  },
  "nbformat": 4,
  "nbformat_minor": 0
}